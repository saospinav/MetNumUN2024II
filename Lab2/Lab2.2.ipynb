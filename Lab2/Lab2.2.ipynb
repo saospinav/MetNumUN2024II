{
 "cells": [
  {
   "cell_type": "markdown",
   "metadata": {
    "id": "7BErgdXjiXcb"
   },
   "source": [
    "<center><img src=\"https://raw.githubusercontent.com/ssanderson/pydata-toolbox/master/notebooks/images/panda-wrangling.gif\" alt=\"Drawing\" style=\"width: 75%;\"/></center>"
   ]
  },
  {
   "cell_type": "markdown",
   "metadata": {
    "id": "B-LuFQ2BiXcb"
   },
   "source": [
    "<center><img src=\"https://raw.githubusercontent.com/ssanderson/pydata-toolbox/master/notebooks/images/pandas_logo.png\" alt=\"Drawing\" style=\"width: 75%;\"/></center>\n"
   ]
  },
  {
   "cell_type": "markdown",
   "metadata": {
    "id": "B8Hv2pY4iXcb"
   },
   "source": [
    "Pandas extends Numpy with more complex data structures:\n",
    "\n",
    "- `Series`: 1-dimensional, homogenously-typed, labelled array.\n",
    "- `DataFrame`: 2-dimensional, semi-homogenous, labelled table."
   ]
  },
  {
   "cell_type": "markdown",
   "metadata": {
    "id": "xYDFME14iXcb"
   },
   "source": [
    "Pandas also provides many utilities for:\n",
    "- Input/Output\n",
    "- Data Cleaning\n",
    "- Rolling Algorithms\n",
    "- Plotting"
   ]
  },
  {
   "cell_type": "markdown",
   "metadata": {
    "id": "uOvK2ZfeiXcb"
   },
   "source": [
    "# Selection in Pandas"
   ]
  },
  {
   "cell_type": "code",
   "execution_count": null,
   "metadata": {
    "id": "G6ploxoOiXcb"
   },
   "outputs": [],
   "source": [
    "s = pd.Series(index=['a', 'b', 'c', 'd', 'e'], data=[1, 2, 3, 4, 5])\n",
    "s"
   ]
  },
  {
   "cell_type": "code",
   "execution_count": null,
   "metadata": {
    "id": "PU-7iKpqiXcc"
   },
   "outputs": [],
   "source": [
    "# There are two pieces to a Series: the index and the values.\n",
    "print(\"The index is:\", s.index)\n",
    "print(\"The values are:\", s.values)"
   ]
  },
  {
   "cell_type": "code",
   "execution_count": null,
   "metadata": {
    "id": "pUnHyGr5iXcc"
   },
   "outputs": [],
   "source": [
    "# We can look up values out of a Series by position...\n",
    "s.iloc[0]"
   ]
  },
  {
   "cell_type": "code",
   "execution_count": null,
   "metadata": {
    "id": "IyM3qqygiXcc"
   },
   "outputs": [],
   "source": [
    "# ... or by label.\n",
    "s.loc['a']"
   ]
  },
  {
   "cell_type": "code",
   "execution_count": null,
   "metadata": {
    "id": "JrCItQtiiXcc"
   },
   "outputs": [],
   "source": [
    "# Slicing works as expected...\n",
    "s.iloc[:2]"
   ]
  },
  {
   "cell_type": "code",
   "execution_count": null,
   "metadata": {
    "id": "tzTbbk9YiXcc"
   },
   "outputs": [],
   "source": [
    "# ...but it works with labels too!\n",
    "s.loc[:'c']"
   ]
  },
  {
   "cell_type": "code",
   "execution_count": null,
   "metadata": {
    "id": "qrVQ0b0ziXcd"
   },
   "outputs": [],
   "source": [
    "# Fancy indexing works the same as in numpy.\n",
    "s.iloc[[0, -1]]"
   ]
  },
  {
   "cell_type": "code",
   "execution_count": null,
   "metadata": {
    "id": "THswhsDLiXcd"
   },
   "outputs": [],
   "source": [
    "# As does boolean masking.\n",
    "s.loc[s > 2]"
   ]
  },
  {
   "cell_type": "code",
   "execution_count": null,
   "metadata": {
    "id": "nYGjpHaIiXcd"
   },
   "outputs": [],
   "source": [
    "# Element-wise operations are aligned by index.\n",
    "other_s = pd.Series({'a': 10.0, 'c': 20.0, 'd': 30.0, 'z': 40.0})\n",
    "other_s"
   ]
  },
  {
   "cell_type": "code",
   "execution_count": null,
   "metadata": {
    "id": "nkK07CuEiXcd"
   },
   "outputs": [],
   "source": [
    "s + other_s"
   ]
  },
  {
   "cell_type": "code",
   "execution_count": null,
   "metadata": {
    "id": "pePOoBl3iXcd"
   },
   "outputs": [],
   "source": [
    "# We can fill in missing values with fillna().\n",
    "(s + other_s).fillna(0.0)"
   ]
  },
  {
   "cell_type": "code",
   "execution_count": null,
   "metadata": {
    "id": "8LYqk1oDiXcd"
   },
   "outputs": [],
   "source": [
    "# Most real datasets are read in from an external file format.\n",
    "aapl = pd.read_csv('AAPL.csv', parse_dates=['Date'], index_col='Date')\n",
    "aapl.head()"
   ]
  },
  {
   "cell_type": "code",
   "execution_count": null,
   "metadata": {
    "id": "JasJjximiXcd"
   },
   "outputs": [],
   "source": [
    "# Slicing generalizes to two dimensions as you'd expect:\n",
    "aapl.iloc[:2, :2]"
   ]
  },
  {
   "cell_type": "code",
   "execution_count": null,
   "metadata": {
    "id": "aAnXEGHMiXce"
   },
   "outputs": [],
   "source": [
    "aapl.loc[pd.Timestamp('2010-02-01'):pd.Timestamp('2010-02-04'), ['Close', 'Volume']]"
   ]
  },
  {
   "cell_type": "markdown",
   "metadata": {
    "id": "npT_ZgpYiXce"
   },
   "source": [
    "# \"Real World\" Data"
   ]
  },
  {
   "cell_type": "markdown",
   "metadata": {
    "id": "SQD_o24vT6pd"
   },
   "source": [
    "[csv](https://drive.google.com/file/d/1pi8Bk3aeZhaZ10TZwSQapwl3pZTciFHo/view?usp=sharing)"
   ]
  },
  {
   "cell_type": "code",
   "execution_count": null,
   "metadata": {
    "colab": {
     "base_uri": "https://localhost:8080/",
     "height": 971
    },
    "id": "Deuv14IDAStZ",
    "outputId": "a772d26c-7826-49c7-f394-fa2b218774a7"
   },
   "outputs": [
    {
     "data": {
      "text/html": [
       "\n",
       "  <div id=\"df-d210634f-db73-4b93-9b51-c4c04c8a449e\">\n",
       "    <div class=\"colab-df-container\">\n",
       "      <div>\n",
       "<style scoped>\n",
       "    .dataframe tbody tr th:only-of-type {\n",
       "        vertical-align: middle;\n",
       "    }\n",
       "\n",
       "    .dataframe tbody tr th {\n",
       "        vertical-align: top;\n",
       "    }\n",
       "\n",
       "    .dataframe thead th {\n",
       "        text-align: right;\n",
       "    }\n",
       "</style>\n",
       "<table border=\"1\" class=\"dataframe\">\n",
       "  <thead>\n",
       "    <tr style=\"text-align: right;\">\n",
       "      <th></th>\n",
       "      <th>uuid</th>\n",
       "      <th>municipio</th>\n",
       "      <th>estrato_vivienda</th>\n",
       "      <th>hombre</th>\n",
       "      <th>sin_grupo_etnico</th>\n",
       "      <th>etnia_afrocolombiano</th>\n",
       "      <th>edad_grupo</th>\n",
       "      <th>nivel_educativo</th>\n",
       "      <th>moto_street</th>\n",
       "      <th>moto_scooter</th>\n",
       "      <th>...</th>\n",
       "      <th>epp_guantes</th>\n",
       "      <th>epp_botas</th>\n",
       "      <th>epp_rodilleras</th>\n",
       "      <th>epp_reflectivos</th>\n",
       "      <th>epp_chaquetaprot</th>\n",
       "      <th>epp_chaquetairbag</th>\n",
       "      <th>con_acompañantes</th>\n",
       "      <th>con_acompañantes_menores</th>\n",
       "      <th>perfil_siniestros1</th>\n",
       "      <th>perfil_comparendos1</th>\n",
       "    </tr>\n",
       "  </thead>\n",
       "  <tbody>\n",
       "    <tr>\n",
       "      <th>0</th>\n",
       "      <td>1_10_1</td>\n",
       "      <td>MEDELLÍN</td>\n",
       "      <td>2.0</td>\n",
       "      <td>1</td>\n",
       "      <td>1</td>\n",
       "      <td>0</td>\n",
       "      <td>41-45</td>\n",
       "      <td>Secundaria</td>\n",
       "      <td>1</td>\n",
       "      <td>0</td>\n",
       "      <td>...</td>\n",
       "      <td>0</td>\n",
       "      <td>1</td>\n",
       "      <td>0</td>\n",
       "      <td>0</td>\n",
       "      <td>1</td>\n",
       "      <td>0</td>\n",
       "      <td>1</td>\n",
       "      <td>0.0</td>\n",
       "      <td>1</td>\n",
       "      <td>1</td>\n",
       "    </tr>\n",
       "    <tr>\n",
       "      <th>1</th>\n",
       "      <td>1_10_10</td>\n",
       "      <td>MEDELLÍN</td>\n",
       "      <td>3.0</td>\n",
       "      <td>1</td>\n",
       "      <td>1</td>\n",
       "      <td>0</td>\n",
       "      <td>36-40</td>\n",
       "      <td>Secundaria</td>\n",
       "      <td>1</td>\n",
       "      <td>0</td>\n",
       "      <td>...</td>\n",
       "      <td>0</td>\n",
       "      <td>0</td>\n",
       "      <td>0</td>\n",
       "      <td>1</td>\n",
       "      <td>0</td>\n",
       "      <td>0</td>\n",
       "      <td>0</td>\n",
       "      <td>NaN</td>\n",
       "      <td>1</td>\n",
       "      <td>1</td>\n",
       "    </tr>\n",
       "    <tr>\n",
       "      <th>2</th>\n",
       "      <td>1_10_100</td>\n",
       "      <td>MEDELLÍN</td>\n",
       "      <td>3.0</td>\n",
       "      <td>1</td>\n",
       "      <td>1</td>\n",
       "      <td>0</td>\n",
       "      <td>31-35</td>\n",
       "      <td>Técnica / Tecnológica</td>\n",
       "      <td>1</td>\n",
       "      <td>0</td>\n",
       "      <td>...</td>\n",
       "      <td>0</td>\n",
       "      <td>0</td>\n",
       "      <td>0</td>\n",
       "      <td>1</td>\n",
       "      <td>0</td>\n",
       "      <td>0</td>\n",
       "      <td>1</td>\n",
       "      <td>0.0</td>\n",
       "      <td>1</td>\n",
       "      <td>1</td>\n",
       "    </tr>\n",
       "    <tr>\n",
       "      <th>3</th>\n",
       "      <td>1_10_1000</td>\n",
       "      <td>MEDELLÍN</td>\n",
       "      <td>3.0</td>\n",
       "      <td>1</td>\n",
       "      <td>1</td>\n",
       "      <td>0</td>\n",
       "      <td>31-35</td>\n",
       "      <td>Secundaria</td>\n",
       "      <td>1</td>\n",
       "      <td>0</td>\n",
       "      <td>...</td>\n",
       "      <td>0</td>\n",
       "      <td>0</td>\n",
       "      <td>0</td>\n",
       "      <td>0</td>\n",
       "      <td>0</td>\n",
       "      <td>0</td>\n",
       "      <td>0</td>\n",
       "      <td>NaN</td>\n",
       "      <td>1</td>\n",
       "      <td>1</td>\n",
       "    </tr>\n",
       "    <tr>\n",
       "      <th>4</th>\n",
       "      <td>1_10_1001</td>\n",
       "      <td>MEDELLÍN</td>\n",
       "      <td>4.0</td>\n",
       "      <td>1</td>\n",
       "      <td>1</td>\n",
       "      <td>0</td>\n",
       "      <td>41-45</td>\n",
       "      <td>Universitaria o postgrado</td>\n",
       "      <td>0</td>\n",
       "      <td>0</td>\n",
       "      <td>...</td>\n",
       "      <td>0</td>\n",
       "      <td>0</td>\n",
       "      <td>0</td>\n",
       "      <td>0</td>\n",
       "      <td>0</td>\n",
       "      <td>0</td>\n",
       "      <td>0</td>\n",
       "      <td>NaN</td>\n",
       "      <td>1</td>\n",
       "      <td>1</td>\n",
       "    </tr>\n",
       "    <tr>\n",
       "      <th>...</th>\n",
       "      <td>...</td>\n",
       "      <td>...</td>\n",
       "      <td>...</td>\n",
       "      <td>...</td>\n",
       "      <td>...</td>\n",
       "      <td>...</td>\n",
       "      <td>...</td>\n",
       "      <td>...</td>\n",
       "      <td>...</td>\n",
       "      <td>...</td>\n",
       "      <td>...</td>\n",
       "      <td>...</td>\n",
       "      <td>...</td>\n",
       "      <td>...</td>\n",
       "      <td>...</td>\n",
       "      <td>...</td>\n",
       "      <td>...</td>\n",
       "      <td>...</td>\n",
       "      <td>...</td>\n",
       "      <td>...</td>\n",
       "      <td>...</td>\n",
       "    </tr>\n",
       "    <tr>\n",
       "      <th>25112</th>\n",
       "      <td>5_7_3150</td>\n",
       "      <td>CUNDINAMARCA</td>\n",
       "      <td>2.0</td>\n",
       "      <td>1</td>\n",
       "      <td>1</td>\n",
       "      <td>0</td>\n",
       "      <td>31-35</td>\n",
       "      <td>Técnica / Tecnológica</td>\n",
       "      <td>0</td>\n",
       "      <td>0</td>\n",
       "      <td>...</td>\n",
       "      <td>0</td>\n",
       "      <td>0</td>\n",
       "      <td>0</td>\n",
       "      <td>0</td>\n",
       "      <td>0</td>\n",
       "      <td>0</td>\n",
       "      <td>1</td>\n",
       "      <td>0.0</td>\n",
       "      <td>1</td>\n",
       "      <td>1</td>\n",
       "    </tr>\n",
       "    <tr>\n",
       "      <th>25113</th>\n",
       "      <td>5_7_3151</td>\n",
       "      <td>CUNDINAMARCA</td>\n",
       "      <td>3.0</td>\n",
       "      <td>1</td>\n",
       "      <td>1</td>\n",
       "      <td>0</td>\n",
       "      <td>56-60</td>\n",
       "      <td>Técnica / Tecnológica</td>\n",
       "      <td>0</td>\n",
       "      <td>0</td>\n",
       "      <td>...</td>\n",
       "      <td>0</td>\n",
       "      <td>0</td>\n",
       "      <td>0</td>\n",
       "      <td>0</td>\n",
       "      <td>0</td>\n",
       "      <td>0</td>\n",
       "      <td>0</td>\n",
       "      <td>NaN</td>\n",
       "      <td>1</td>\n",
       "      <td>0</td>\n",
       "    </tr>\n",
       "    <tr>\n",
       "      <th>25114</th>\n",
       "      <td>5_7_3152</td>\n",
       "      <td>CUNDINAMARCA</td>\n",
       "      <td>4.0</td>\n",
       "      <td>1</td>\n",
       "      <td>1</td>\n",
       "      <td>0</td>\n",
       "      <td>46-50</td>\n",
       "      <td>Universitaria o postgrado</td>\n",
       "      <td>0</td>\n",
       "      <td>0</td>\n",
       "      <td>...</td>\n",
       "      <td>0</td>\n",
       "      <td>0</td>\n",
       "      <td>0</td>\n",
       "      <td>0</td>\n",
       "      <td>0</td>\n",
       "      <td>0</td>\n",
       "      <td>1</td>\n",
       "      <td>1.0</td>\n",
       "      <td>0</td>\n",
       "      <td>0</td>\n",
       "    </tr>\n",
       "    <tr>\n",
       "      <th>25115</th>\n",
       "      <td>5_7_3153</td>\n",
       "      <td>CUNDINAMARCA</td>\n",
       "      <td>4.0</td>\n",
       "      <td>1</td>\n",
       "      <td>1</td>\n",
       "      <td>0</td>\n",
       "      <td>46-50</td>\n",
       "      <td>Universitaria o postgrado</td>\n",
       "      <td>0</td>\n",
       "      <td>0</td>\n",
       "      <td>...</td>\n",
       "      <td>1</td>\n",
       "      <td>0</td>\n",
       "      <td>0</td>\n",
       "      <td>0</td>\n",
       "      <td>0</td>\n",
       "      <td>0</td>\n",
       "      <td>0</td>\n",
       "      <td>NaN</td>\n",
       "      <td>1</td>\n",
       "      <td>0</td>\n",
       "    </tr>\n",
       "    <tr>\n",
       "      <th>25116</th>\n",
       "      <td>5_7_3154</td>\n",
       "      <td>CUNDINAMARCA</td>\n",
       "      <td>2.0</td>\n",
       "      <td>0</td>\n",
       "      <td>1</td>\n",
       "      <td>0</td>\n",
       "      <td>41-45</td>\n",
       "      <td>Técnica / Tecnológica</td>\n",
       "      <td>0</td>\n",
       "      <td>0</td>\n",
       "      <td>...</td>\n",
       "      <td>0</td>\n",
       "      <td>0</td>\n",
       "      <td>0</td>\n",
       "      <td>0</td>\n",
       "      <td>0</td>\n",
       "      <td>0</td>\n",
       "      <td>1</td>\n",
       "      <td>0.0</td>\n",
       "      <td>1</td>\n",
       "      <td>1</td>\n",
       "    </tr>\n",
       "  </tbody>\n",
       "</table>\n",
       "<p>25117 rows × 50 columns</p>\n",
       "</div>\n",
       "      <button class=\"colab-df-convert\" onclick=\"convertToInteractive('df-d210634f-db73-4b93-9b51-c4c04c8a449e')\"\n",
       "              title=\"Convert this dataframe to an interactive table.\"\n",
       "              style=\"display:none;\">\n",
       "        \n",
       "  <svg xmlns=\"http://www.w3.org/2000/svg\" height=\"24px\"viewBox=\"0 0 24 24\"\n",
       "       width=\"24px\">\n",
       "    <path d=\"M0 0h24v24H0V0z\" fill=\"none\"/>\n",
       "    <path d=\"M18.56 5.44l.94 2.06.94-2.06 2.06-.94-2.06-.94-.94-2.06-.94 2.06-2.06.94zm-11 1L8.5 8.5l.94-2.06 2.06-.94-2.06-.94L8.5 2.5l-.94 2.06-2.06.94zm10 10l.94 2.06.94-2.06 2.06-.94-2.06-.94-.94-2.06-.94 2.06-2.06.94z\"/><path d=\"M17.41 7.96l-1.37-1.37c-.4-.4-.92-.59-1.43-.59-.52 0-1.04.2-1.43.59L10.3 9.45l-7.72 7.72c-.78.78-.78 2.05 0 2.83L4 21.41c.39.39.9.59 1.41.59.51 0 1.02-.2 1.41-.59l7.78-7.78 2.81-2.81c.8-.78.8-2.07 0-2.86zM5.41 20L4 18.59l7.72-7.72 1.47 1.35L5.41 20z\"/>\n",
       "  </svg>\n",
       "      </button>\n",
       "      \n",
       "  <style>\n",
       "    .colab-df-container {\n",
       "      display:flex;\n",
       "      flex-wrap:wrap;\n",
       "      gap: 12px;\n",
       "    }\n",
       "\n",
       "    .colab-df-convert {\n",
       "      background-color: #E8F0FE;\n",
       "      border: none;\n",
       "      border-radius: 50%;\n",
       "      cursor: pointer;\n",
       "      display: none;\n",
       "      fill: #1967D2;\n",
       "      height: 32px;\n",
       "      padding: 0 0 0 0;\n",
       "      width: 32px;\n",
       "    }\n",
       "\n",
       "    .colab-df-convert:hover {\n",
       "      background-color: #E2EBFA;\n",
       "      box-shadow: 0px 1px 2px rgba(60, 64, 67, 0.3), 0px 1px 3px 1px rgba(60, 64, 67, 0.15);\n",
       "      fill: #174EA6;\n",
       "    }\n",
       "\n",
       "    [theme=dark] .colab-df-convert {\n",
       "      background-color: #3B4455;\n",
       "      fill: #D2E3FC;\n",
       "    }\n",
       "\n",
       "    [theme=dark] .colab-df-convert:hover {\n",
       "      background-color: #434B5C;\n",
       "      box-shadow: 0px 1px 3px 1px rgba(0, 0, 0, 0.15);\n",
       "      filter: drop-shadow(0px 1px 2px rgba(0, 0, 0, 0.3));\n",
       "      fill: #FFFFFF;\n",
       "    }\n",
       "  </style>\n",
       "\n",
       "      <script>\n",
       "        const buttonEl =\n",
       "          document.querySelector('#df-d210634f-db73-4b93-9b51-c4c04c8a449e button.colab-df-convert');\n",
       "        buttonEl.style.display =\n",
       "          google.colab.kernel.accessAllowed ? 'block' : 'none';\n",
       "\n",
       "        async function convertToInteractive(key) {\n",
       "          const element = document.querySelector('#df-d210634f-db73-4b93-9b51-c4c04c8a449e');\n",
       "          const dataTable =\n",
       "            await google.colab.kernel.invokeFunction('convertToInteractive',\n",
       "                                                     [key], {});\n",
       "          if (!dataTable) return;\n",
       "\n",
       "          const docLinkHtml = 'Like what you see? Visit the ' +\n",
       "            '<a target=\"_blank\" href=https://colab.research.google.com/notebooks/data_table.ipynb>data table notebook</a>'\n",
       "            + ' to learn more about interactive tables.';\n",
       "          element.innerHTML = '';\n",
       "          dataTable['output_type'] = 'display_data';\n",
       "          await google.colab.output.renderOutput(dataTable, element);\n",
       "          const docLink = document.createElement('div');\n",
       "          docLink.innerHTML = docLinkHtml;\n",
       "          element.appendChild(docLink);\n",
       "        }\n",
       "      </script>\n",
       "    </div>\n",
       "  </div>\n",
       "  "
      ],
      "text/plain": [
       "            uuid     municipio  estrato_vivienda  hombre  sin_grupo_etnico  \\\n",
       "0         1_10_1      MEDELLÍN               2.0       1                 1   \n",
       "1        1_10_10      MEDELLÍN               3.0       1                 1   \n",
       "2       1_10_100      MEDELLÍN               3.0       1                 1   \n",
       "3      1_10_1000      MEDELLÍN               3.0       1                 1   \n",
       "4      1_10_1001      MEDELLÍN               4.0       1                 1   \n",
       "...          ...           ...               ...     ...               ...   \n",
       "25112   5_7_3150  CUNDINAMARCA               2.0       1                 1   \n",
       "25113   5_7_3151  CUNDINAMARCA               3.0       1                 1   \n",
       "25114   5_7_3152  CUNDINAMARCA               4.0       1                 1   \n",
       "25115   5_7_3153  CUNDINAMARCA               4.0       1                 1   \n",
       "25116   5_7_3154  CUNDINAMARCA               2.0       0                 1   \n",
       "\n",
       "       etnia_afrocolombiano edad_grupo            nivel_educativo  \\\n",
       "0                         0      41-45                 Secundaria   \n",
       "1                         0      36-40                 Secundaria   \n",
       "2                         0      31-35      Técnica / Tecnológica   \n",
       "3                         0      31-35                 Secundaria   \n",
       "4                         0      41-45  Universitaria o postgrado   \n",
       "...                     ...        ...                        ...   \n",
       "25112                     0      31-35      Técnica / Tecnológica   \n",
       "25113                     0      56-60      Técnica / Tecnológica   \n",
       "25114                     0      46-50  Universitaria o postgrado   \n",
       "25115                     0      46-50  Universitaria o postgrado   \n",
       "25116                     0      41-45      Técnica / Tecnológica   \n",
       "\n",
       "       moto_street  moto_scooter  ...  epp_guantes epp_botas epp_rodilleras  \\\n",
       "0                1             0  ...            0         1              0   \n",
       "1                1             0  ...            0         0              0   \n",
       "2                1             0  ...            0         0              0   \n",
       "3                1             0  ...            0         0              0   \n",
       "4                0             0  ...            0         0              0   \n",
       "...            ...           ...  ...          ...       ...            ...   \n",
       "25112            0             0  ...            0         0              0   \n",
       "25113            0             0  ...            0         0              0   \n",
       "25114            0             0  ...            0         0              0   \n",
       "25115            0             0  ...            1         0              0   \n",
       "25116            0             0  ...            0         0              0   \n",
       "\n",
       "       epp_reflectivos  epp_chaquetaprot  epp_chaquetairbag con_acompañantes  \\\n",
       "0                    0                 1                  0                1   \n",
       "1                    1                 0                  0                0   \n",
       "2                    1                 0                  0                1   \n",
       "3                    0                 0                  0                0   \n",
       "4                    0                 0                  0                0   \n",
       "...                ...               ...                ...              ...   \n",
       "25112                0                 0                  0                1   \n",
       "25113                0                 0                  0                0   \n",
       "25114                0                 0                  0                1   \n",
       "25115                0                 0                  0                0   \n",
       "25116                0                 0                  0                1   \n",
       "\n",
       "       con_acompañantes_menores  perfil_siniestros1  perfil_comparendos1  \n",
       "0                           0.0                   1                    1  \n",
       "1                           NaN                   1                    1  \n",
       "2                           0.0                   1                    1  \n",
       "3                           NaN                   1                    1  \n",
       "4                           NaN                   1                    1  \n",
       "...                         ...                 ...                  ...  \n",
       "25112                       0.0                   1                    1  \n",
       "25113                       NaN                   1                    0  \n",
       "25114                       1.0                   0                    0  \n",
       "25115                       NaN                   1                    0  \n",
       "25116                       0.0                   1                    1  \n",
       "\n",
       "[25117 rows x 50 columns]"
      ]
     },
     "execution_count": 2,
     "metadata": {},
     "output_type": "execute_result"
    },
    {
     "name": "stdout",
     "output_type": "stream",
     "text": [
      "Warning: Total number of columns (50) exceeds max_columns (20) limiting to first (20) columns.\n",
      "Warning: total number of rows (25117) exceeds max_rows (20000). Limiting to first (20000) rows.\n"
     ]
    }
   ],
   "source": [
    "import pandas as pd\n",
    "motos = pd.read_csv('Encuesta_Motociclistas.csv')\n",
    "motos"
   ]
  },
  {
   "cell_type": "code",
   "execution_count": null,
   "metadata": {
    "colab": {
     "base_uri": "https://localhost:8080/",
     "height": 334
    },
    "id": "oGCPHamaEtPf",
    "outputId": "df496212-f252-4c6c-ee9e-e814e50f84fb"
   },
   "outputs": [
    {
     "data": {
      "text/html": [
       "\n",
       "  <div id=\"df-42162b3d-f21f-4784-84dd-3c96182ce325\">\n",
       "    <div class=\"colab-df-container\">\n",
       "      <div>\n",
       "<style scoped>\n",
       "    .dataframe tbody tr th:only-of-type {\n",
       "        vertical-align: middle;\n",
       "    }\n",
       "\n",
       "    .dataframe tbody tr th {\n",
       "        vertical-align: top;\n",
       "    }\n",
       "\n",
       "    .dataframe thead th {\n",
       "        text-align: right;\n",
       "    }\n",
       "</style>\n",
       "<table border=\"1\" class=\"dataframe\">\n",
       "  <thead>\n",
       "    <tr style=\"text-align: right;\">\n",
       "      <th></th>\n",
       "      <th>uuid</th>\n",
       "      <th>municipio</th>\n",
       "      <th>estrato_vivienda</th>\n",
       "      <th>hombre</th>\n",
       "      <th>sin_grupo_etnico</th>\n",
       "      <th>etnia_afrocolombiano</th>\n",
       "      <th>edad_grupo</th>\n",
       "      <th>nivel_educativo</th>\n",
       "      <th>moto_street</th>\n",
       "      <th>moto_scooter</th>\n",
       "      <th>...</th>\n",
       "      <th>epp_guantes</th>\n",
       "      <th>epp_botas</th>\n",
       "      <th>epp_rodilleras</th>\n",
       "      <th>epp_reflectivos</th>\n",
       "      <th>epp_chaquetaprot</th>\n",
       "      <th>epp_chaquetairbag</th>\n",
       "      <th>con_acompañantes</th>\n",
       "      <th>con_acompañantes_menores</th>\n",
       "      <th>perfil_siniestros1</th>\n",
       "      <th>perfil_comparendos1</th>\n",
       "    </tr>\n",
       "  </thead>\n",
       "  <tbody>\n",
       "    <tr>\n",
       "      <th>0</th>\n",
       "      <td>1_10_1</td>\n",
       "      <td>MEDELLÍN</td>\n",
       "      <td>2.0</td>\n",
       "      <td>1</td>\n",
       "      <td>1</td>\n",
       "      <td>0</td>\n",
       "      <td>41-45</td>\n",
       "      <td>Secundaria</td>\n",
       "      <td>1</td>\n",
       "      <td>0</td>\n",
       "      <td>...</td>\n",
       "      <td>0</td>\n",
       "      <td>1</td>\n",
       "      <td>0</td>\n",
       "      <td>0</td>\n",
       "      <td>1</td>\n",
       "      <td>0</td>\n",
       "      <td>1</td>\n",
       "      <td>0.0</td>\n",
       "      <td>1</td>\n",
       "      <td>1</td>\n",
       "    </tr>\n",
       "    <tr>\n",
       "      <th>1</th>\n",
       "      <td>1_10_10</td>\n",
       "      <td>MEDELLÍN</td>\n",
       "      <td>3.0</td>\n",
       "      <td>1</td>\n",
       "      <td>1</td>\n",
       "      <td>0</td>\n",
       "      <td>36-40</td>\n",
       "      <td>Secundaria</td>\n",
       "      <td>1</td>\n",
       "      <td>0</td>\n",
       "      <td>...</td>\n",
       "      <td>0</td>\n",
       "      <td>0</td>\n",
       "      <td>0</td>\n",
       "      <td>1</td>\n",
       "      <td>0</td>\n",
       "      <td>0</td>\n",
       "      <td>0</td>\n",
       "      <td>NaN</td>\n",
       "      <td>1</td>\n",
       "      <td>1</td>\n",
       "    </tr>\n",
       "    <tr>\n",
       "      <th>2</th>\n",
       "      <td>1_10_100</td>\n",
       "      <td>MEDELLÍN</td>\n",
       "      <td>3.0</td>\n",
       "      <td>1</td>\n",
       "      <td>1</td>\n",
       "      <td>0</td>\n",
       "      <td>31-35</td>\n",
       "      <td>Técnica / Tecnológica</td>\n",
       "      <td>1</td>\n",
       "      <td>0</td>\n",
       "      <td>...</td>\n",
       "      <td>0</td>\n",
       "      <td>0</td>\n",
       "      <td>0</td>\n",
       "      <td>1</td>\n",
       "      <td>0</td>\n",
       "      <td>0</td>\n",
       "      <td>1</td>\n",
       "      <td>0.0</td>\n",
       "      <td>1</td>\n",
       "      <td>1</td>\n",
       "    </tr>\n",
       "    <tr>\n",
       "      <th>3</th>\n",
       "      <td>1_10_1000</td>\n",
       "      <td>MEDELLÍN</td>\n",
       "      <td>3.0</td>\n",
       "      <td>1</td>\n",
       "      <td>1</td>\n",
       "      <td>0</td>\n",
       "      <td>31-35</td>\n",
       "      <td>Secundaria</td>\n",
       "      <td>1</td>\n",
       "      <td>0</td>\n",
       "      <td>...</td>\n",
       "      <td>0</td>\n",
       "      <td>0</td>\n",
       "      <td>0</td>\n",
       "      <td>0</td>\n",
       "      <td>0</td>\n",
       "      <td>0</td>\n",
       "      <td>0</td>\n",
       "      <td>NaN</td>\n",
       "      <td>1</td>\n",
       "      <td>1</td>\n",
       "    </tr>\n",
       "    <tr>\n",
       "      <th>4</th>\n",
       "      <td>1_10_1001</td>\n",
       "      <td>MEDELLÍN</td>\n",
       "      <td>4.0</td>\n",
       "      <td>1</td>\n",
       "      <td>1</td>\n",
       "      <td>0</td>\n",
       "      <td>41-45</td>\n",
       "      <td>Universitaria o postgrado</td>\n",
       "      <td>0</td>\n",
       "      <td>0</td>\n",
       "      <td>...</td>\n",
       "      <td>0</td>\n",
       "      <td>0</td>\n",
       "      <td>0</td>\n",
       "      <td>0</td>\n",
       "      <td>0</td>\n",
       "      <td>0</td>\n",
       "      <td>0</td>\n",
       "      <td>NaN</td>\n",
       "      <td>1</td>\n",
       "      <td>1</td>\n",
       "    </tr>\n",
       "  </tbody>\n",
       "</table>\n",
       "<p>5 rows × 50 columns</p>\n",
       "</div>\n",
       "      <button class=\"colab-df-convert\" onclick=\"convertToInteractive('df-42162b3d-f21f-4784-84dd-3c96182ce325')\"\n",
       "              title=\"Convert this dataframe to an interactive table.\"\n",
       "              style=\"display:none;\">\n",
       "        \n",
       "  <svg xmlns=\"http://www.w3.org/2000/svg\" height=\"24px\"viewBox=\"0 0 24 24\"\n",
       "       width=\"24px\">\n",
       "    <path d=\"M0 0h24v24H0V0z\" fill=\"none\"/>\n",
       "    <path d=\"M18.56 5.44l.94 2.06.94-2.06 2.06-.94-2.06-.94-.94-2.06-.94 2.06-2.06.94zm-11 1L8.5 8.5l.94-2.06 2.06-.94-2.06-.94L8.5 2.5l-.94 2.06-2.06.94zm10 10l.94 2.06.94-2.06 2.06-.94-2.06-.94-.94-2.06-.94 2.06-2.06.94z\"/><path d=\"M17.41 7.96l-1.37-1.37c-.4-.4-.92-.59-1.43-.59-.52 0-1.04.2-1.43.59L10.3 9.45l-7.72 7.72c-.78.78-.78 2.05 0 2.83L4 21.41c.39.39.9.59 1.41.59.51 0 1.02-.2 1.41-.59l7.78-7.78 2.81-2.81c.8-.78.8-2.07 0-2.86zM5.41 20L4 18.59l7.72-7.72 1.47 1.35L5.41 20z\"/>\n",
       "  </svg>\n",
       "      </button>\n",
       "      \n",
       "  <style>\n",
       "    .colab-df-container {\n",
       "      display:flex;\n",
       "      flex-wrap:wrap;\n",
       "      gap: 12px;\n",
       "    }\n",
       "\n",
       "    .colab-df-convert {\n",
       "      background-color: #E8F0FE;\n",
       "      border: none;\n",
       "      border-radius: 50%;\n",
       "      cursor: pointer;\n",
       "      display: none;\n",
       "      fill: #1967D2;\n",
       "      height: 32px;\n",
       "      padding: 0 0 0 0;\n",
       "      width: 32px;\n",
       "    }\n",
       "\n",
       "    .colab-df-convert:hover {\n",
       "      background-color: #E2EBFA;\n",
       "      box-shadow: 0px 1px 2px rgba(60, 64, 67, 0.3), 0px 1px 3px 1px rgba(60, 64, 67, 0.15);\n",
       "      fill: #174EA6;\n",
       "    }\n",
       "\n",
       "    [theme=dark] .colab-df-convert {\n",
       "      background-color: #3B4455;\n",
       "      fill: #D2E3FC;\n",
       "    }\n",
       "\n",
       "    [theme=dark] .colab-df-convert:hover {\n",
       "      background-color: #434B5C;\n",
       "      box-shadow: 0px 1px 3px 1px rgba(0, 0, 0, 0.15);\n",
       "      filter: drop-shadow(0px 1px 2px rgba(0, 0, 0, 0.3));\n",
       "      fill: #FFFFFF;\n",
       "    }\n",
       "  </style>\n",
       "\n",
       "      <script>\n",
       "        const buttonEl =\n",
       "          document.querySelector('#df-42162b3d-f21f-4784-84dd-3c96182ce325 button.colab-df-convert');\n",
       "        buttonEl.style.display =\n",
       "          google.colab.kernel.accessAllowed ? 'block' : 'none';\n",
       "\n",
       "        async function convertToInteractive(key) {\n",
       "          const element = document.querySelector('#df-42162b3d-f21f-4784-84dd-3c96182ce325');\n",
       "          const dataTable =\n",
       "            await google.colab.kernel.invokeFunction('convertToInteractive',\n",
       "                                                     [key], {});\n",
       "          if (!dataTable) return;\n",
       "\n",
       "          const docLinkHtml = 'Like what you see? Visit the ' +\n",
       "            '<a target=\"_blank\" href=https://colab.research.google.com/notebooks/data_table.ipynb>data table notebook</a>'\n",
       "            + ' to learn more about interactive tables.';\n",
       "          element.innerHTML = '';\n",
       "          dataTable['output_type'] = 'display_data';\n",
       "          await google.colab.output.renderOutput(dataTable, element);\n",
       "          const docLink = document.createElement('div');\n",
       "          docLink.innerHTML = docLinkHtml;\n",
       "          element.appendChild(docLink);\n",
       "        }\n",
       "      </script>\n",
       "    </div>\n",
       "  </div>\n",
       "  "
      ],
      "text/plain": [
       "        uuid municipio  estrato_vivienda  hombre  sin_grupo_etnico  \\\n",
       "0     1_10_1  MEDELLÍN               2.0       1                 1   \n",
       "1    1_10_10  MEDELLÍN               3.0       1                 1   \n",
       "2   1_10_100  MEDELLÍN               3.0       1                 1   \n",
       "3  1_10_1000  MEDELLÍN               3.0       1                 1   \n",
       "4  1_10_1001  MEDELLÍN               4.0       1                 1   \n",
       "\n",
       "   etnia_afrocolombiano edad_grupo            nivel_educativo  moto_street  \\\n",
       "0                     0      41-45                 Secundaria            1   \n",
       "1                     0      36-40                 Secundaria            1   \n",
       "2                     0      31-35      Técnica / Tecnológica            1   \n",
       "3                     0      31-35                 Secundaria            1   \n",
       "4                     0      41-45  Universitaria o postgrado            0   \n",
       "\n",
       "   moto_scooter  ...  epp_guantes epp_botas epp_rodilleras  epp_reflectivos  \\\n",
       "0             0  ...            0         1              0                0   \n",
       "1             0  ...            0         0              0                1   \n",
       "2             0  ...            0         0              0                1   \n",
       "3             0  ...            0         0              0                0   \n",
       "4             0  ...            0         0              0                0   \n",
       "\n",
       "   epp_chaquetaprot  epp_chaquetairbag con_acompañantes  \\\n",
       "0                 1                  0                1   \n",
       "1                 0                  0                0   \n",
       "2                 0                  0                1   \n",
       "3                 0                  0                0   \n",
       "4                 0                  0                0   \n",
       "\n",
       "   con_acompañantes_menores  perfil_siniestros1  perfil_comparendos1  \n",
       "0                       0.0                   1                    1  \n",
       "1                       NaN                   1                    1  \n",
       "2                       0.0                   1                    1  \n",
       "3                       NaN                   1                    1  \n",
       "4                       NaN                   1                    1  \n",
       "\n",
       "[5 rows x 50 columns]"
      ]
     },
     "execution_count": 3,
     "metadata": {},
     "output_type": "execute_result"
    }
   ],
   "source": [
    "motos.head()"
   ]
  },
  {
   "cell_type": "code",
   "execution_count": null,
   "metadata": {
    "colab": {
     "base_uri": "https://localhost:8080/"
    },
    "id": "n0aGW1vQEycY",
    "outputId": "55148c01-09d3-49fb-ef9f-a1f404cdf0a4"
   },
   "outputs": [
    {
     "data": {
      "text/plain": [
       "uuid                             object\n",
       "municipio                        object\n",
       "estrato_vivienda                float64\n",
       "hombre                            int64\n",
       "sin_grupo_etnico                  int64\n",
       "etnia_afrocolombiano              int64\n",
       "edad_grupo                       object\n",
       "nivel_educativo                  object\n",
       "moto_street                       int64\n",
       "moto_scooter                      int64\n",
       "moto_deportiva                    int64\n",
       "cilin_grupo                      object\n",
       "modelo_grupo                     object\n",
       "frenos_disco                      int64\n",
       "frenos_mixto                      int64\n",
       "frenos_tambor                     int64\n",
       "tec_frenado                      object\n",
       "dias_semana                       int64\n",
       "sector_comercio                   int64\n",
       "sector_servicios                  int64\n",
       "sector_transporte                 int64\n",
       "herramienta_trabajo               int64\n",
       "transporte_cotidiano              int64\n",
       "trabajo_domicilios              float64\n",
       "trabajo_transporte_pasajeros    float64\n",
       "frecuencia_revisionpre           object\n",
       "costo_casco                      object\n",
       "costo_mantenimiento              object\n",
       "gasto_anual                     float64\n",
       "licencia_moto                     int64\n",
       "licencia_curso                  float64\n",
       "experiencia                      object\n",
       "riesgo_velocidad                  int64\n",
       "riesgo_sinlucesdia                int64\n",
       "riesgo_sinlucesnoche              int64\n",
       "riesgo_sinreflectivos             int64\n",
       "motivo_dinero                     int64\n",
       "motivo_tiempo                     int64\n",
       "motivo_independencia              int64\n",
       "epp_casco                         int64\n",
       "epp_guantes                       int64\n",
       "epp_botas                         int64\n",
       "epp_rodilleras                    int64\n",
       "epp_reflectivos                   int64\n",
       "epp_chaquetaprot                  int64\n",
       "epp_chaquetairbag                 int64\n",
       "con_acompañantes                  int64\n",
       "con_acompañantes_menores        float64\n",
       "perfil_siniestros1                int64\n",
       "perfil_comparendos1               int64\n",
       "dtype: object"
      ]
     },
     "execution_count": 4,
     "metadata": {},
     "output_type": "execute_result"
    }
   ],
   "source": [
    "motos.dtypes"
   ]
  },
  {
   "cell_type": "code",
   "execution_count": null,
   "metadata": {
    "colab": {
     "base_uri": "https://localhost:8080/",
     "height": 280
    },
    "id": "EXI7H_iVE-Aj",
    "outputId": "3dd09e97-0303-42e3-f939-e8d5d2049f8d"
   },
   "outputs": [
    {
     "data": {
      "image/png": "[encoded data removed]",
      "text/plain": [
       "<Figure size 432x288 with 1 Axes>"
      ]
     },
     "metadata": {
      "needs_background": "light"
     },
     "output_type": "display_data"
    }
   ],
   "source": [
    "metrallo = motos[motos.municipio == 'MEDELLÍN']\n",
    "metrallo.groupby([\"edad_grupo\", \"nivel_educativo\"])[\"estrato_vivienda\"].mean().unstack().ffill().plot();"
   ]
  },
  {
   "cell_type": "code",
   "execution_count": null,
   "metadata": {
    "id": "Din7b2WWIzEZ"
   },
   "outputs": [],
   "source": [
    "def diferencia_estratos(group):\n",
    "  precios_estrato_sin_null = pd.DataFrame(group.dropna())\n",
    "  hombres = precios_estrato_sin_null.loc[:, 1]\n",
    "  mujeres = precios_estrato_sin_null.loc[:, 0]\n",
    "  diff = abs(hombres-mujeres)\n",
    "  return diff\n",
    "\n",
    "def precios_por_estrato(df):\n",
    "    return (\n",
    "        df\n",
    "        .groupby(['dias_semana', 'hombre'])['estrato_vivienda'].mean().unstack().ffill())"
   ]
  },
  {
   "cell_type": "code",
   "execution_count": null,
   "metadata": {
    "colab": {
     "base_uri": "https://localhost:8080/"
    },
    "id": "ChgSsIGGQ2u6",
    "outputId": "9ce8adcb-c116-4c26-c4f7-cb2e98e6f986"
   },
   "outputs": [
    {
     "data": {
      "text/plain": [
       "dias_semana\n",
       "2    0.167742\n",
       "3    0.535714\n",
       "4    2.153846\n",
       "5    0.061813\n",
       "6    0.032860\n",
       "7    0.086078\n",
       "dtype: float64"
      ]
     },
     "execution_count": 84,
     "metadata": {},
     "output_type": "execute_result"
    }
   ],
   "source": [
    "asdf = precios_por_estrato(metrallo)\n",
    "diferencia_estratos(asdf)\n"
   ]
  },
  {
   "cell_type": "code",
   "execution_count": null,
   "metadata": {
    "colab": {
     "base_uri": "https://localhost:8080/",
     "height": 298
    },
    "id": "pNoXIf97Tm7x",
    "outputId": "6d900953-b105-4f9d-dad0-690103d0c786"
   },
   "outputs": [
    {
     "data": {
      "text/plain": [
       "<matplotlib.axes._subplots.AxesSubplot at 0x7f681a3a2450>"
      ]
     },
     "execution_count": 85,
     "metadata": {},
     "output_type": "execute_result"
    },
    {
     "data": {
      "image/png": "[encoded data removed]",
      "text/plain": [
       "<Figure size 432x288 with 1 Axes>"
      ]
     },
     "metadata": {
      "needs_background": "light"
     },
     "output_type": "display_data"
    }
   ],
   "source": [
    "asdf.plot()"
   ]
  },
  {
   "cell_type": "code",
   "execution_count": null,
   "metadata": {
    "id": "tjk0EsEsiXcf"
   },
   "outputs": [],
   "source": [
    "# Unlike numpy arrays, pandas DataFrames can have a different dtype for each column.\n",
    "avocados.dtypes"
   ]
  },
  {
   "cell_type": "code",
   "execution_count": null,
   "metadata": {
    "id": "YcpqjQCdiXcf"
   },
   "outputs": [],
   "source": [
    "# What's the regional average price of a HASS avocado every day?\n",
    "hass = avocados[avocados.Variety == 'HASS']\n",
    "hass.groupby(['Date', 'Region'])['Weighted Avg Price'].mean().unstack().ffill().plot();"
   ]
  },
  {
   "cell_type": "code",
   "execution_count": null,
   "metadata": {
    "collapsed": true,
    "id": "k1Zdnr4jiXcf"
   },
   "outputs": [],
   "source": [
    "def _organic_spread(group):\n",
    "\n",
    "    if len(group.columns) != 2:\n",
    "        return pd.Series(index=group.index, data=0.0)\n",
    "\n",
    "    is_organic = group.columns.get_level_values('Organic').values.astype(bool)\n",
    "    organics = group.loc[:, is_organic].squeeze()\n",
    "    non_organics = group.loc[:, ~is_organic].squeeze()\n",
    "    diff = organics - non_organics\n",
    "    return diff\n",
    "\n",
    "def organic_spread_by_region(df):\n",
    "    \"\"\"What's the difference between the price of an organic\n",
    "    and non-organic avocado within each region?\n",
    "    \"\"\"\n",
    "    return (\n",
    "        df\n",
    "        .set_index(['Date', 'Region', 'Organic'])\n",
    "         ['Weighted Avg Price']\n",
    "        .unstack(level=['Region', 'Organic'])\n",
    "        .ffill()\n",
    "        .groupby(level='Region', axis=1)\n",
    "        .apply(_organic_spread)\n",
    "    )"
   ]
  },
  {
   "cell_type": "code",
   "execution_count": null,
   "metadata": {
    "id": "iU-Th92BiXcf"
   },
   "outputs": [],
   "source": [
    "organic_spread_by_region(hass).plot();\n",
    "plt.gca().set_title(\"Daily Regional Organic Spread\");\n",
    "plt.legend(bbox_to_anchor=(1, 1));"
   ]
  },
  {
   "cell_type": "code",
   "execution_count": null,
   "metadata": {
    "id": "vjR02HpEiXcg"
   },
   "outputs": [],
   "source": [
    "spread_correlation = organic_spread_by_region(hass).corr()\n",
    "spread_correlation"
   ]
  },
  {
   "cell_type": "code",
   "execution_count": null,
   "metadata": {
    "id": "-fbKjqw6iXcg"
   },
   "outputs": [],
   "source": [
    "import seaborn as sns\n",
    "grid = sns.clustermap(spread_correlation, annot=True)\n",
    "fig = grid.fig\n",
    "axes = fig.axes\n",
    "ax = axes[2]\n",
    "ax.set_xticklabels(ax.get_xticklabels(), rotation=45);"
   ]
  },
  {
   "cell_type": "markdown",
   "metadata": {
    "id": "-6jsBAhQiXcg"
   },
   "source": [
    "# Pandas Review\n",
    "\n",
    "- Pandas extends numpy with more complex datastructures and algorithms.\n",
    "- If you understand numpy, you understand 90% of pandas.\n",
    "- `groupby`, `set_index`, and `unstack` are powerful tools for working with categorical data.\n",
    "- Avocado prices are surprisingly interesting :)"
   ]
  },
  {
   "cell_type": "markdown",
   "metadata": {
    "id": "_u_fG58UiXcg"
   },
   "source": [
    "# Thanks!"
   ]
  }
 ],
 "metadata": {
  "celltoolbar": "Slideshow",
  "colab": {
   "collapsed_sections": [
    "gh1Uw4KtiXcK",
    "K81LXWsCiXcS",
    "9EsiKbSCiXcT",
    "zsIEVqkgiXcY",
    "JHmGF_mGiXcZ",
    "-6jsBAhQiXcg",
    "_u_fG58UiXcg"
   ],
   "provenance": []
  },
  "kernelspec": {
   "display_name": "Python 3",
   "language": "python",
   "name": "python3"
  },
  "language_info": {
   "codemirror_mode": {
    "name": "ipython",
    "version": 3
   },
   "file_extension": ".py",
   "mimetype": "text/x-python",
   "name": "python",
   "nbconvert_exporter": "python",
   "pygments_lexer": "ipython3",
   "version": "3.5.2"
  },
  "livereveal": {
   "start_slideshow_at": "selected"
  },
  "name": "Main.ipynb"
 },
 "nbformat": 4,
 "nbformat_minor": 0
}
